{
 "cells": [
  {
   "cell_type": "markdown",
   "metadata": {},
   "source": []
  },
  {
   "cell_type": "code",
   "execution_count": 1,
   "metadata": {},
   "outputs": [
    {
     "name": "stderr",
     "output_type": "stream",
     "text": [
      "C:\\Users\\Lenovo\\AppData\\Roaming\\Python\\Python312\\site-packages\\tqdm\\auto.py:21: TqdmWarning: IProgress not found. Please update jupyter and ipywidgets. See https://ipywidgets.readthedocs.io/en/stable/user_install.html\n",
      "  from .autonotebook import tqdm as notebook_tqdm\n"
     ]
    }
   ],
   "source": [
    "import torch\n",
    "import torch.nn as nn \n",
    "from torch.optim import Adam \n",
    "\n",
    "from torch.distributions.uniform import Uniform\n",
    "\n",
    "from torch.utils.data import DataLoader,TensorDataset\n",
    "\n",
    "import lightning as L\n",
    "\n",
    "import pandas as pd \n",
    "import matplotlib.pyplot as plt \n",
    "import seaborn as sns \n",
    "\n"
   ]
  },
  {
   "cell_type": "code",
   "execution_count": 3,
   "metadata": {},
   "outputs": [],
   "source": [
    "# we will need to encode the number and names in the token and then create one hot encoding where the target word is 1 and rest everything is 0 \n",
    "\n",
    "# we will create embeddings for Troll2 is great Gymkata and each time we have a word we put it 1 \n",
    "\n",
    "input = torch.tensor([[1.,0.,0.,0.],\n",
    "                     [0.,1.,0.,0.],\n",
    "                     [0.,0.,1.,0.],\n",
    "                     [0.,0.,0.,1.]])\n",
    "\n",
    "\n",
    "labels = torch.tensor([[0.,1.,0.,0.],\n",
    "                     [0.,0.,1.,0.],\n",
    "                     [0.,0.,0.,1.],\n",
    "                     [0.,1.,0.,0.]])\n",
    "\n",
    "\n",
    "Dataset = TensorDataset(input,labels)\n",
    "\n",
    "meradata = DataLoader(Dataset)\n"
   ]
  },
  {
   "cell_type": "markdown",
   "metadata": {},
   "source": []
  },
  {
   "cell_type": "code",
   "execution_count": 12,
   "metadata": {},
   "outputs": [],
   "source": [
    "from typing import Any\n",
    "\n",
    "\n",
    "class Wordembedding(L.LightningModule):\n",
    "    # we need to select distributions from which we can select values in \n",
    "    def __init__(self):\n",
    "        super().__init__()\n",
    "        # we need to set a range of min and max distribution \n",
    "        \n",
    "        min_value = -0.5\n",
    "        max_value = 0.5\n",
    "        \n",
    "        self.input1_w1 =  nn.Parameter(Uniform(min_value,max_value).sample()) # this will uniformly select values from -0.5 to 0.5 for the values \n",
    "        self.input1_w2 =  nn.Parameter(Uniform(min_value,max_value).sample()) # this will uniformly select values from -0.5 to 0.5 for the values \n",
    "        self.input2_w1 =  nn.Parameter(Uniform(min_value,max_value).sample()) # this will uniformly select values from -0.5 to 0.5 for the values \n",
    "        self.input2_w2 =  nn.Parameter(Uniform(min_value,max_value).sample()) # this will uniformly select values from -0.5 to 0.5 for the values \n",
    "        self.input3_w1 =  nn.Parameter(Uniform(min_value,max_value).sample()) # this will uniformly select values from -0.5 to 0.5 for the values \n",
    "        self.input3_w2 =  nn.Parameter(Uniform(min_value,max_value).sample()) # this will uniformly select values from -0.5 to 0.5 for the values \n",
    "        self.input4_w1 =  nn.Parameter(Uniform(min_value,max_value).sample()) # this will uniformly select values from -0.5 to 0.5 for the values \n",
    "        self.input4_w2 =  nn.Parameter(Uniform(min_value,max_value).sample()) # this will uniformly select values from -0.5 to 0.5 for the values \n",
    "\n",
    "        self.output1_w1 =  nn.Parameter(Uniform(min_value,max_value).sample()) # this will uniformly select values from -0.5 to 0.5 for the values \n",
    "        self.output1_w2 =  nn.Parameter(Uniform(min_value,max_value).sample()) # this will uniformly select values from -0.5 to 0.5 for the values \n",
    "        self.output2_w1 =  nn.Parameter(Uniform(min_value,max_value).sample()) # this will uniformly select values from -0.5 to 0.5 for the values \n",
    "        self.output2_w2 =  nn.Parameter(Uniform(min_value,max_value).sample()) # this will uniformly select values from -0.5 to 0.5 for the values \n",
    "        self.output3_w1 =  nn.Parameter(Uniform(min_value,max_value).sample()) # this will uniformly select values from -0.5 to 0.5 for the values \n",
    "        self.output3_w2 =  nn.Parameter(Uniform(min_value,max_value).sample()) # this will uniformly select values from -0.5 to 0.5 for the values \n",
    "        self.output4_w1 =  nn.Parameter(Uniform(min_value,max_value).sample()) # this will uniformly select values from -0.5 to 0.5 for the values \n",
    "        self.output4_w2 =  nn.Parameter(Uniform(min_value,max_value).sample()) # this will uniformly select values from -0.5 to 0.5 for the values \n",
    "        \n",
    "        \n",
    "        self.loss = nn.CrossEntropyLoss()\n",
    "        \n",
    "        # now working on forward function \n",
    "        \n",
    "        \n",
    "    def forward(self,input):\n",
    "        \n",
    "        input = input[0]\n",
    "        \n",
    "        input_to_top_hidden = ((input[0]*self.input1_w1)+\n",
    "                               (input[1]*self.input2_w1)+\n",
    "                               (input[2]*self.input3_w1)+\n",
    "                               (input[3]*self.input4_w1))\n",
    "        \n",
    "        input_bottom_to_hidden =((input[0]*self.input1_w2)+\n",
    "                               (input[1]*self.input2_w2)+\n",
    "                               (input[2]*self.input3_w2)+\n",
    "                               (input[3]*self.input4_w2))\n",
    "        \n",
    "        \n",
    "        \n",
    "        \n",
    "        output1 = ((input_to_top_hidden*self.output1_w1)+\n",
    "                   (input_bottom_to_hidden*self.output1_w2))\n",
    "        \n",
    "        output2 = ((input_to_top_hidden*self.output2_w1)+\n",
    "                   (input_bottom_to_hidden*self.output2_w2))\n",
    "        \n",
    "        output3 = ((input_to_top_hidden*self.output3_w1)+\n",
    "                   (input_bottom_to_hidden*self.output3_w2))\n",
    "\n",
    "        output4 = ((input_to_top_hidden*self.output4_w1)+\n",
    "                   (input_bottom_to_hidden*self.output4_w2))\n",
    "        \n",
    "        \n",
    "# we have completed the softmax function in the semi final layer of the  NN \n",
    "\n",
    "        output_pre_softmax = torch.stack([output1,output2,output3,output4])\n",
    "        return(output_pre_softmax)\n",
    "    \n",
    "    # optimiser functions \n",
    "    \n",
    "    def configure_optimizers(self):\n",
    "        return Adam(self.parameters(),lr = 0.1)\n",
    "    \n",
    "    \n",
    "    def training_step(self,batch,batch_idx):\n",
    "        input_i , label_i = batch\n",
    "        output_i = self.forward(input_i)\n",
    "        loss = self.loss(output_i,label_i[0])\n",
    "        \n",
    "        "
   ]
  },
  {
   "cell_type": "code",
   "execution_count": 13,
   "metadata": {},
   "outputs": [],
   "source": [
    "Meramodel = Wordembedding()"
   ]
  },
  {
   "cell_type": "code",
   "execution_count": 14,
   "metadata": {},
   "outputs": [
    {
     "name": "stdout",
     "output_type": "stream",
     "text": [
      "before Optimisation The value of all the weights and parameters is : \n",
      " \n",
      "input1_w1 tensor(-0.1614)\n",
      "input1_w2 tensor(-0.4238)\n",
      "input2_w1 tensor(-0.3950)\n",
      "input2_w2 tensor(0.1213)\n",
      "input3_w1 tensor(0.1533)\n",
      "input3_w2 tensor(-0.0235)\n",
      "input4_w1 tensor(-0.2094)\n",
      "input4_w2 tensor(-0.1892)\n",
      "output1_w1 tensor(0.1218)\n",
      "output1_w2 tensor(-0.2559)\n",
      "output2_w1 tensor(-0.2350)\n",
      "output2_w2 tensor(-0.1167)\n",
      "output3_w1 tensor(-0.0756)\n",
      "output3_w2 tensor(-0.2597)\n",
      "output4_w1 tensor(-0.1522)\n",
      "output4_w2 tensor(-0.0070)\n"
     ]
    }
   ],
   "source": [
    "print(\"before Optimisation The value of all the weights and parameters is : \\n \")\n",
    "\n",
    "for name, param in Meramodel.named_parameters():\n",
    "    print(name,param.data)"
   ]
  },
  {
   "cell_type": "markdown",
   "metadata": {},
   "source": [
    "## We need to organise this data into dataframe for usage "
   ]
  },
  {
   "cell_type": "code",
   "execution_count": 15,
   "metadata": {},
   "outputs": [
    {
     "data": {
      "text/html": [
       "<div>\n",
       "<style scoped>\n",
       "    .dataframe tbody tr th:only-of-type {\n",
       "        vertical-align: middle;\n",
       "    }\n",
       "\n",
       "    .dataframe tbody tr th {\n",
       "        vertical-align: top;\n",
       "    }\n",
       "\n",
       "    .dataframe thead th {\n",
       "        text-align: right;\n",
       "    }\n",
       "</style>\n",
       "<table border=\"1\" class=\"dataframe\">\n",
       "  <thead>\n",
       "    <tr style=\"text-align: right;\">\n",
       "      <th></th>\n",
       "      <th>w1</th>\n",
       "      <th>w2</th>\n",
       "      <th>token</th>\n",
       "      <th>input</th>\n",
       "    </tr>\n",
       "  </thead>\n",
       "  <tbody>\n",
       "    <tr>\n",
       "      <th>0</th>\n",
       "      <td>-0.161399</td>\n",
       "      <td>-0.423831</td>\n",
       "      <td>Parth</td>\n",
       "      <td>input1</td>\n",
       "    </tr>\n",
       "    <tr>\n",
       "      <th>1</th>\n",
       "      <td>-0.395017</td>\n",
       "      <td>0.121272</td>\n",
       "      <td>is</td>\n",
       "      <td>input2</td>\n",
       "    </tr>\n",
       "    <tr>\n",
       "      <th>2</th>\n",
       "      <td>0.153272</td>\n",
       "      <td>-0.023545</td>\n",
       "      <td>Great</td>\n",
       "      <td>input2</td>\n",
       "    </tr>\n",
       "    <tr>\n",
       "      <th>3</th>\n",
       "      <td>-0.209408</td>\n",
       "      <td>-0.189241</td>\n",
       "      <td>Dear</td>\n",
       "      <td>input4</td>\n",
       "    </tr>\n",
       "  </tbody>\n",
       "</table>\n",
       "</div>"
      ],
      "text/plain": [
       "         w1        w2  token   input\n",
       "0 -0.161399 -0.423831  Parth  input1\n",
       "1 -0.395017  0.121272    is   input2\n",
       "2  0.153272 -0.023545  Great  input2\n",
       "3 -0.209408 -0.189241   Dear  input4"
      ]
     },
     "execution_count": 15,
     "metadata": {},
     "output_type": "execute_result"
    }
   ],
   "source": [
    "data = {\n",
    "    \n",
    "    \"w1\": [Meramodel.input1_w1.item(),\n",
    "          Meramodel.input2_w1.item(),\n",
    "          Meramodel.input3_w1.item(),\n",
    "          Meramodel.input4_w1.item()],\n",
    "    \n",
    "    \n",
    "    \"w2\": [Meramodel.input1_w2.item(),\n",
    "          Meramodel.input2_w2.item(),\n",
    "          Meramodel.input3_w2.item(),\n",
    "          Meramodel.input4_w2.item()],    \n",
    "    \n",
    "    \n",
    "    \"token\" : [\"Parth\", \"is \", \"Great\" , \"Dear\"],\n",
    "    \"input\" : [ \"input1\", \"input2\", \"input2\" , \"input4\"]\n",
    "    }\n",
    "\n",
    "\n",
    "df = pd.DataFrame(data)\n",
    "\n",
    "df"
   ]
  },
  {
   "cell_type": "code",
   "execution_count": 16,
   "metadata": {},
   "outputs": [
    {
     "data": {
      "text/plain": [
       "Text(-0.20940786600112915, -0.1892406940460205, 'Dear')"
      ]
     },
     "execution_count": 16,
     "metadata": {},
     "output_type": "execute_result"
    },
    {
     "data": {
      "image/png": "[encoded data removed]",
      "text/plain": [
       "<Figure size 640x480 with 1 Axes>"
      ]
     },
     "metadata": {},
     "output_type": "display_data"
    }
   ],
   "source": [
    "\n",
    "sns.scatterplot(data = df , x = 'w1', y = 'w2')\n",
    "\n",
    "plt.text(df.w1[0], df.w2[0], df.token[0],\n",
    "         horizontalalignment = 'left',\n",
    "         size = 'medium',\n",
    "         color = 'black',\n",
    "         weight = 'semibold')\n",
    "\n",
    "\n",
    "\n",
    "plt.text(df.w1[1], df.w2[1], df.token[1],\n",
    "         horizontalalignment = 'left',\n",
    "         size = 'medium',\n",
    "         color = 'black',\n",
    "         weight = 'semibold')\n",
    "\n",
    "\n",
    "plt.text(df.w1[2], df.w2[2], df.token[2],\n",
    "         horizontalalignment = 'left',\n",
    "         size = 'medium',\n",
    "         color = 'black',\n",
    "         weight = 'semibold')\n",
    "\n",
    "\n",
    "\n",
    "plt.text(df.w1[3], df.w2[3], df.token[3],\n",
    "         horizontalalignment = 'left',\n",
    "         size = 'medium',\n",
    "         color = 'black',\n",
    "         weight = 'semibold')\n"
   ]
  },
  {
   "cell_type": "code",
   "execution_count": 17,
   "metadata": {},
   "outputs": [
    {
     "data": {
      "text/plain": [
       "<torch.utils.data.dataloader.DataLoader at 0x26fab85e090>"
      ]
     },
     "execution_count": 17,
     "metadata": {},
     "output_type": "execute_result"
    }
   ],
   "source": [
    "meradata"
   ]
  },
  {
   "cell_type": "code",
   "execution_count": 18,
   "metadata": {},
   "outputs": [
    {
     "name": "stderr",
     "output_type": "stream",
     "text": [
      "GPU available: False, used: False\n",
      "TPU available: False, using: 0 TPU cores\n",
      "HPU available: False, using: 0 HPUs\n",
      "\n",
      "  | Name         | Type             | Params | Mode \n",
      "----------------------------------------------------------\n",
      "0 | loss         | CrossEntropyLoss | 0      | train\n",
      "  | other params | n/a              | 16     | n/a  \n",
      "----------------------------------------------------------\n",
      "16        Trainable params\n",
      "0         Non-trainable params\n",
      "16        Total params\n",
      "0.000     Total estimated model params size (MB)\n",
      "C:\\Users\\Lenovo\\AppData\\Roaming\\Python\\Python312\\site-packages\\lightning\\pytorch\\trainer\\connectors\\data_connector.py:424: The 'train_dataloader' does not have many workers which may be a bottleneck. Consider increasing the value of the `num_workers` argument` to `num_workers=7` in the `DataLoader` to improve performance.\n",
      "C:\\Users\\Lenovo\\AppData\\Roaming\\Python\\Python312\\site-packages\\lightning\\pytorch\\loops\\fit_loop.py:298: The number of training batches (4) is smaller than the logging interval Trainer(log_every_n_steps=50). Set a lower value for log_every_n_steps if you want to see logs for the training epoch.\n"
     ]
    },
    {
     "name": "stdout",
     "output_type": "stream",
     "text": [
      "Epoch 0:  50%|█████     | 2/4 [00:00<00:00, 17.31it/s, v_num=1]"
     ]
    },
    {
     "name": "stderr",
     "output_type": "stream",
     "text": [
      "C:\\Users\\Lenovo\\AppData\\Roaming\\Python\\Python312\\site-packages\\lightning\\pytorch\\loops\\optimization\\automatic.py:132: `training_step` returned `None`. If this was on purpose, ignore this warning...\n"
     ]
    },
    {
     "name": "stdout",
     "output_type": "stream",
     "text": [
      "Epoch 99: 100%|██████████| 4/4 [00:00<00:00, 28.53it/s, v_num=1] "
     ]
    },
    {
     "name": "stderr",
     "output_type": "stream",
     "text": [
      "`Trainer.fit` stopped: `max_epochs=100` reached.\n"
     ]
    },
    {
     "name": "stdout",
     "output_type": "stream",
     "text": [
      "Epoch 99: 100%|██████████| 4/4 [00:00<00:00, 21.83it/s, v_num=1]\n"
     ]
    }
   ],
   "source": [
    "trainer = L.Trainer(max_epochs=100)\n",
    "\n",
    "trainer.fit(Meramodel,train_dataloaders=meradata)"
   ]
  },
  {
   "cell_type": "code",
   "execution_count": null,
   "metadata": {},
   "outputs": [],
   "source": []
  }
 ],
 "metadata": {
  "kernelspec": {
   "display_name": "parthpython",
   "language": "python",
   "name": "python3"
  },
  "language_info": {
   "codemirror_mode": {
    "name": "ipython",
    "version": 3
   },
   "file_extension": ".py",
   "mimetype": "text/x-python",
   "name": "python",
   "nbconvert_exporter": "python",
   "pygments_lexer": "ipython3",
   "version": "3.12.3"
  }
 },
 "nbformat": 4,
 "nbformat_minor": 2
}
